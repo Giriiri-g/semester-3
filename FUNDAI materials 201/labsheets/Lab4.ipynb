{
  "nbformat": 4,
  "nbformat_minor": 0,
  "metadata": {
    "colab": {
      "provenance": []
    },
    "kernelspec": {
      "name": "python3",
      "display_name": "Python 3"
    },
    "language_info": {
      "name": "python"
    }
  },
  "cells": [
    {
      "cell_type": "code",
      "execution_count": 10,
      "metadata": {
        "colab": {
          "base_uri": "https://localhost:8080/"
        },
        "id": "SuCRGDJ9xj1R",
        "outputId": "a046eca9-c37c-4630-85d3-f13de9b4b34e"
      },
      "outputs": [
        {
          "output_type": "stream",
          "name": "stdout",
          "text": [
            "Actions\n",
            "J1 J2\n",
            "0 0\n",
            "4 0\n",
            "4 3\n",
            "0 3\n",
            "3 0\n",
            "3 3\n",
            "4 2\n",
            "0 2\n",
            "2 0\n",
            "2 3\n",
            "4 1\n",
            "0 1\n",
            "1 0\n"
          ]
        },
        {
          "output_type": "execute_result",
          "data": {
            "text/plain": [
              "True"
            ]
          },
          "metadata": {},
          "execution_count": 10
        }
      ],
      "source": [
        "from collections import defaultdict\n",
        "\n",
        "def initialize_visited():\n",
        "    return defaultdict(lambda: False)\n",
        "\n",
        "def water_jug_problem(jug1, jug2, aim, visited, amt1=0, amt2=0):\n",
        "    if (amt1, amt2) == (aim, 0):\n",
        "        print(amt1, amt2)\n",
        "        return True\n",
        "    if visited[(amt1, amt2)]:\n",
        "        return False\n",
        "    visited[(amt1, amt2)] = True\n",
        "    print(amt1, amt2)\n",
        "    if amt1 < jug1:\n",
        "        if water_jug_problem(jug1, jug2, aim, visited, jug1, amt2):\n",
        "            return True\n",
        "    if amt2 < jug2:\n",
        "        if water_jug_problem(jug1, jug2, aim, visited, amt1, jug2):\n",
        "            return True\n",
        "    if amt1 > 0:\n",
        "        if water_jug_problem(jug1, jug2, aim, visited, 0, amt2):\n",
        "            return True\n",
        "    if amt2 > 0:\n",
        "        if water_jug_problem(jug1, jug2, aim, visited, amt1, 0):\n",
        "            return True\n",
        "    if amt1 > 0 and amt2 < jug2:\n",
        "        pour_amt = min(amt1, jug2 - amt2)\n",
        "        if water_jug_problem(jug1, jug2, aim, visited, amt1 - pour_amt, amt2 + pour_amt):\n",
        "            return True\n",
        "    if amt2 > 0 and amt1 < jug1:\n",
        "        pour_amt = min(amt2, jug1 - amt1)\n",
        "        if water_jug_problem(jug1, jug2, aim, visited, amt1 + pour_amt, amt2 - pour_amt):\n",
        "            return True\n",
        "    return False\n",
        "\n",
        "\n",
        "jug1, jug2, aim = 4, 3, 1\n",
        "visited = initialize_visited()\n",
        "print(\"Actions\")\n",
        "print(\"J1 J2\")\n",
        "water_jug_problem(jug1, jug2, aim, visited)"
      ]
    },
    {
      "cell_type": "code",
      "source": [
        "jug1, jug2, aim = 4, 3, 2\n",
        "visited = initialize_visited()\n",
        "print(\"Actions\")\n",
        "print(\"J1 J2\")\n",
        "water_jug_problem(jug1, jug2, aim, visited)"
      ],
      "metadata": {
        "colab": {
          "base_uri": "https://localhost:8080/"
        },
        "id": "a5mD_3hCzUZx",
        "outputId": "e9c787e1-b5f3-4b9e-e82e-0dc4fd205e90"
      },
      "execution_count": 11,
      "outputs": [
        {
          "output_type": "stream",
          "name": "stdout",
          "text": [
            "Actions\n",
            "J1 J2\n",
            "0 0\n",
            "4 0\n",
            "4 3\n",
            "0 3\n",
            "3 0\n",
            "3 3\n",
            "4 2\n",
            "0 2\n",
            "2 0\n"
          ]
        },
        {
          "output_type": "execute_result",
          "data": {
            "text/plain": [
              "True"
            ]
          },
          "metadata": {},
          "execution_count": 11
        }
      ]
    }
  ]
}