{
  "nbformat": 4,
  "nbformat_minor": 0,
  "metadata": {
    "colab": {
      "provenance": []
    },
    "kernelspec": {
      "name": "python3",
      "display_name": "Python 3"
    },
    "language_info": {
      "name": "python"
    }
  },
  "cells": [
    {
      "cell_type": "markdown",
      "source": [
        "**Lab Sheet 1 **:\n",
        "**Basic Sequence Analysis Programs in Python**\n",
        "\n",
        "---\n",
        "\n",
        "\n",
        "\n",
        "*   Q1: Initialise a variable with a signal peptide sequence, change the case and print it. Also print the length of the sequence. (Hint- use string manipulation functions)\n",
        "*  Q2: Check the existence of a particular amino acid in a peptide sequence\n",
        "*  Q3:  Count the number of Nucleotides in a DNA Sequence (Human Insulin)\n",
        "\n",
        "> *   Using a for loop\n",
        "> * Using a while loop\n",
        "> * Using python library function\n",
        "\n",
        "*  Q4: Calculate the 'GC Content' of a DNA Sequence\n",
        "*  Q5: Check the existence of a 'TATA Box' in a DNA sequence\n",
        "*  Q6: Find the Reverse Complement of a  DNA String (Human Insulin) - Double Helix Form\n",
        "*   Q7:Convert a DNA sequence into an mRNA Sequence - (Transcription)\n",
        "*   Q8: Check the existence of a start codon in the mRNA sequence\n",
        "*   Q9: Check the existence of stop codon in the mRNA sequence\n",
        "*   Q10: Find positions of the start and stop codon present in an mRNA sequence. Extract the coding region using the start and stop codons.\n",
        "* Q11: Use a python dictionary to convert an peptide chain from its one letter codon representation to three letter codon representation  \n",
        "* Q12 : Calculates the molecular weight of a protein based on weight  of individual amino acids (Given as a dictionary).\n"
      ],
      "metadata": {
        "id": "_ljBj1CpQ433"
      }
    },
    {
      "cell_type": "code",
      "source": [
        "# from google.colab import drive\n",
        "# drive.mount('/content/drive')"
      ],
      "metadata": {
        "id": "9u8XR8Ka7UAr"
      },
      "execution_count": 10,
      "outputs": []
    },
    {
      "cell_type": "code",
      "source": [
        "#Q1: Initialise a variable with a signal peptide sequence, change the case and print it. Also print the length of the sequence.\n",
        "#A signal peptide is a short peptide (usually 16-30 amino acids long) that control protein secretion and translocation in all living organisms\n",
        "\n",
        "example = \"MGKMASLFATLLVVLVSLSLASESSA\"\n",
        "print(f\"The length of the signal peptide is {len(example)}\")\n",
        "print(f\"Signal Peptide : {example.upper()}\")"
      ],
      "metadata": {
        "colab": {
          "base_uri": "https://localhost:8080/"
        },
        "id": "K0nXegVOcNd5",
        "outputId": "461452ae-9a07-4a6f-e899-a34a3236c6fd"
      },
      "execution_count": 11,
      "outputs": [
        {
          "output_type": "stream",
          "name": "stdout",
          "text": [
            "The length of the signal peptide is 26\n",
            "Signal Peptide : MGKMASLFATLLVVLVSLSLASESSA\n"
          ]
        }
      ]
    },
    {
      "cell_type": "code",
      "source": [
        "#Q2: Check the existence of a particular amino acid in a peptide sequence\n",
        "#Check whether Lysine (R) is present in a peptide sequence\n",
        "\n",
        "example = \"MAKNVAIFGLLFSLLVLVPSQIFA\"\n",
        "if 'R' in example:\n",
        "  print(\"Lysine is present in the peptide sequence {}\".format(example))\n",
        "else:\n",
        "  print(\"Lysine is not present in the peptide sequence {}\".format(example))"
      ],
      "metadata": {
        "colab": {
          "base_uri": "https://localhost:8080/"
        },
        "id": "KaZjDvSHkT1U",
        "outputId": "bdbd445f-f956-4673-818a-fe452167dc45"
      },
      "execution_count": 12,
      "outputs": [
        {
          "output_type": "stream",
          "name": "stdout",
          "text": [
            "Lysine is not present in the peptide sequence MAKNVAIFGLLFSLLVLVPSQIFA\n"
          ]
        }
      ]
    },
    {
      "cell_type": "code",
      "source": [
        "#Q3: Count the Number of Nucleotides (Bases) in a DNA Sequence\n",
        "#dna sequence of insulin gene\n",
        "\n",
        "dna = \"\"\"AGCCCTCCAGGACAGGCTGCATCAGAAGAGGCCATCAAGCAGGTCTGTTCCAAGGGCCTTTGCGTCAGGT\n",
        "GGGCTCAGGATTCCAGGGTGGCTGGACCCCAGGCCCCAGCTCTGCAGCAGGGAGGACGTGGCTGGGCTCG\n",
        "TGAAGCATGTGGGGGTGAGCCCAGGGGCCCCAAGGCAGGGCACCTGGCCTTCAGCCTGCCTCAGCCCTGC\n",
        "CTGTCTCCCAGATCACTGTCCTTCTGCCATGGCCCTGTGGATGCGCCTCCTGCCCCTGCTGGCGCTGCTG\n",
        "GCCCTCTGGGGACCTGACCCAGCCGCAGCCTTTGTGAACCAACACCTGTGCGGCTCACACCTGGTGGAAG\n",
        "CTCTCTACCTAGTGTGCGGGGAACGAGGCTTCTTCTACACACCCAAGACCCGCCGGGAGGCAGAGGACCT\n",
        "GCAGGGTGAGCCAACTGCCCATTGCTGCCCCTGGCCGCCCCCAGCCACCCCCTGCTCCTGGCGCTCCCAC\n",
        "CCAGCATGGGCAGAAGGGGGCAGGAGGCTGCCACCCAGCAGGGGGTCAGGTGCACTTTTTTAAAAAGAAG\n",
        "TTCTCTTGGTCACGTCCTAAAAGTGACCAGCTCCCTGTGGCCCAGTCAGAATCTCAGCCTGAGGACGGTG\n",
        "TTGGCTTCGGCAGCCCCGAGATACATCAGAGGGTGGGCACGCTCCTCCCTCCACTCGCCCCTCAAACAAA\n",
        "TGCCCCGCAGCCCATTTCTCCACCCTCATTTGATGACCGCAGATTCAAGTGTTTTGTTAAGTAAAGTCCT\n",
        "GGGTGACCTGGGGTCACAGGGTGCCCCACGCTGCCTGCCTCTGGGCGAACACCCCATCACGCCCGGAGGA\n",
        "GGGCGTGGCTGCCTGCCTGAGTGGGCCAGACCCCTGTCGCCAGGCCTCACGGCAGCTCCATAGTCAGGAG\n",
        "ATGGGGAAGATGCTGGGGACAGGCCCTGGGGAGAAGTACTGGGATCACCTGTTCAGGCTCCCACTGTGAC\n",
        "GCTGCCCCGGGGCGGGGGAAGGAGGTGGGACATGTGGGCGTTGGGGCCTGTAGGTCCACACCCAGTGTGG\n",
        "GTGACCCTCCCTCTAACCTGGGTCCAGCCCGGCTGGAGATGGGTGGGAGTGCGACCTAGGGCTGGCGGGC\n",
        "AGGCGGGCACTGTGTCTCCCTGACTGTGTCCTCCTGTGTCCCTCTGCCTCGCCGCTGTTCCGGAACCTGC\n",
        "TCTGCGCGGCACGTCCTGGCAGTGGGGCAGGTGGAGCTGGGCGGGGGCCCTGGTGCAGGCAGCCTGCAGC\n",
        "CCTTGGCCCTGGAGGGGTCCCTGCAGAAGCGTGGCATTGTGGAACAATGCTGTACCAGCATCTGCTCCCT\n",
        "CTACCAGCTGGAGAACTACTGCAACTAGACGCAGCCCGCAGGCAGCCCCACACCCGCCGCCTCCTGCACC\n",
        "GAGAGAGATGGAATAAAGCCCTTGAACCAGC\"\"\"\n",
        "\n",
        "print(\"\\n\\nPython Library Function\")\n",
        "print(f\"adenine (A): {dna.count('A')}\")\n",
        "print(f\"guanine (G): {dna.count('G')}\")\n",
        "print(f\"cytosine (C): {dna.count('C')}\")\n",
        "print(f\"thymine (T): {dna.count('T')}\")\n",
        "\n",
        "print(\"\\n\\nFor Loop\")\n",
        "bases = {\"A\":0, \"G\":0, \"C\":0, \"T\":0}\n",
        "for i in dna:\n",
        "  if i in bases:\n",
        "    bases[i]+=1\n",
        "\n",
        "for i in bases:\n",
        "  print(f\"{i} : {bases[i]}\")\n",
        "\n",
        "print(\"\\n\\nWhile Loop\")\n",
        "bases = {\"A\":0, \"G\":0, \"C\":0, \"T\":0}\n",
        "i=0\n",
        "length = len(dna)\n",
        "while i<length:\n",
        "  if dna[i] in bases:\n",
        "    bases[dna[i]]+=1\n",
        "  i+=1\n",
        "\n",
        "\n",
        "for i in bases:\n",
        "  print(f\"{i} : {bases[i]}\")"
      ],
      "metadata": {
        "id": "btsy4LieSB5n",
        "outputId": "73ca130d-2789-4e5e-b7f9-0cac8c55f86b",
        "colab": {
          "base_uri": "https://localhost:8080/"
        }
      },
      "execution_count": 13,
      "outputs": [
        {
          "output_type": "stream",
          "name": "stdout",
          "text": [
            "\n",
            "\n",
            "Python Library Function\n",
            "adenine (A): 247\n",
            "guanine (G): 456\n",
            "cytosine (C): 469\n",
            "thymine (T): 259\n",
            "\n",
            "\n",
            "For Loop\n",
            "A : 247\n",
            "G : 456\n",
            "C : 469\n",
            "T : 259\n",
            "\n",
            "\n",
            "While Loop\n",
            "A : 247\n",
            "G : 456\n",
            "C : 469\n",
            "T : 259\n"
          ]
        }
      ]
    },
    {
      "cell_type": "code",
      "source": [
        "# Q4: Calculate the 'GC Content' of a DNA Sequence\n",
        "# The GC pair is bound by three hydrogen bonds, while AT pairs are bound by two hydrogen bonds. And so,\n",
        "# The GC content affects the stability of DNA.\n",
        "# The GC content affects the secondary structure of mRNA.\n",
        "# The GC content affects the annealing temperature for template DNA in PCR experiments.\n",
        "# Formula : Count(G + C)/Count(A + T + G + C) * 100%.\n",
        "\n",
        "print(f\"Total Number of Nucleotides : {len(dna)}.\")\n",
        "G = dna.count(\"G\")\n",
        "C = dna.count(\"C\")\n",
        "\n",
        "print(\"GC content of the DNA sequence is {:.2f}%.\".format((G+C)*100/len(dna)))"
      ],
      "metadata": {
        "colab": {
          "base_uri": "https://localhost:8080/"
        },
        "id": "ynpViYKwTk5w",
        "outputId": "f5db334c-02c8-4281-c2fc-c18e367ef9d6"
      },
      "execution_count": 14,
      "outputs": [
        {
          "output_type": "stream",
          "name": "stdout",
          "text": [
            "Total Number of Nucleotides : 1451.\n",
            "GC content of the DNA sequence is 63.75%.\n"
          ]
        }
      ]
    },
    {
      "cell_type": "code",
      "source": [
        "# Q5: Check the existence of a 'TATA Box' in a DNA sequence\n",
        "# TATA box (also called the Goldberg–Hogness box) is a sequence of DNA found in the core promoter region of genes in archaea and eukaryotes\n",
        "# TATAWAW, where W is either A or T.\n",
        "import re;\n",
        "pattern = \"TATA[AT]A[AT]\";\n",
        "dna2 = \"TAGACGTTATAAAATGCCCTCAGATAGCCG\"\n",
        "match_ = re.search(pattern, dna2)\n",
        "print(match_)\n",
        "print(f\"The TATA Box is present in the DNA sequence: {match_.start()} - {match_.end()}\")\n"
      ],
      "metadata": {
        "colab": {
          "base_uri": "https://localhost:8080/"
        },
        "id": "p9UWpvc2pkt-",
        "outputId": "be1ea74b-a673-491f-9969-f67d635fef8f"
      },
      "execution_count": 15,
      "outputs": [
        {
          "output_type": "stream",
          "name": "stdout",
          "text": [
            "<re.Match object; span=(7, 14), match='TATAAAA'>\n",
            "The TATA Box is present in the DNA sequence: 7 - 14\n"
          ]
        }
      ]
    },
    {
      "cell_type": "code",
      "source": [
        "dna2[match_.start():match_.end()]"
      ],
      "metadata": {
        "colab": {
          "base_uri": "https://localhost:8080/",
          "height": 36
        },
        "id": "irHjQuTYex4b",
        "outputId": "795b81f6-63c4-46c6-8578-d5d4b821ed04"
      },
      "execution_count": 16,
      "outputs": [
        {
          "output_type": "execute_result",
          "data": {
            "text/plain": [
              "'TATAAAA'"
            ],
            "application/vnd.google.colaboratory.intrinsic+json": {
              "type": "string"
            }
          },
          "metadata": {},
          "execution_count": 16
        }
      ]
    },
    {
      "cell_type": "markdown",
      "source": [
        "** Q6: Problem : Find the Reverse Complement of a DNA String**\n",
        "\n",
        "Description: In DNA strings, symbols 'A' and 'T' are complements of each other, as are 'C' and 'G'. Given a nucleotide p, we denote its complementary nucleotide as p. The reverse complement of a DNA string Pattern = p1…pn is the string Pattern = pn … p1 formed by taking the complement of each nucleotide in Pattern, then reversing the resulting string.\n",
        "\n",
        "For example, the reverse complement of Pattern = \"GTCA\" is Pattern = \"TGAC\".\n",
        "Reverse Complement Problem\n",
        "\n",
        "Find the reverse complement of a DNA string.\n",
        "\n",
        "Given: A DNA string Pattern.\n",
        "Return: Pattern, the reverse complement of Pattern.\n",
        "Algorithm:\n",
        "1. Find the complementary sequence\n",
        "2. Reverse it.\n",
        "\n",
        "Sample Dataset\n",
        "\n",
        "AAAACCCGGT\n",
        "\n",
        "Sample Output\n",
        "\n",
        "ACCGGGTTTT\n",
        "\n",
        "Visit http://rosalind.info/problems/ba1c/ . Solve the problem. Use the sample dataset given in the site.\n"
      ],
      "metadata": {
        "id": "EwRvQ8DcWzzn"
      }
    },
    {
      "cell_type": "code",
      "source": [
        "dna = \"AAAACCCGGT\"\n",
        "\n",
        "def reverseComplement(dna):\n",
        "  dna = dna.upper()\n",
        "  cipher = {\"A\": \"@\", \"G\":\"#\"}\n",
        "  revcipher = {\"@\":\"T\", \"#\":\"C\"}\n",
        "\n",
        "  for i in cipher:\n",
        "    dna = dna.replace(i, cipher[i])\n",
        "  dna = dna.replace(\"T\", \"A\")\n",
        "  dna = dna.replace(\"C\", \"G\")\n",
        "  for i in revcipher:\n",
        "    dna = dna.replace(i, revcipher[i])\n",
        "  return dna[::-1]\n",
        "\n",
        "reverseComplement(dna) == \"ACCGGGTTTT\"\n"
      ],
      "metadata": {
        "colab": {
          "base_uri": "https://localhost:8080/"
        },
        "id": "Ti6Nzwm9Gy_a",
        "outputId": "0c987bd1-d9ba-4d32-f972-7e9459dae8e0"
      },
      "execution_count": 31,
      "outputs": [
        {
          "output_type": "execute_result",
          "data": {
            "text/plain": [
              "True"
            ]
          },
          "metadata": {},
          "execution_count": 31
        }
      ]
    },
    {
      "cell_type": "code",
      "source": [
        "#Q7: Convert a DNA sequence into an mRNA Sequence\n",
        "# dna = \"\"\"AGCCCTCCAGGACAGGCTGCATCAGAAGAGGCCATCAAGCAGGTCTGTTCCAAGGGCCTTTGCGTCAGGT\n",
        "# GGGCTCAGGATTCCAGGGTGGCTGGACCCCAGGCCCCAGCTCTGCAGCAGGGAGGACGTGGCTGGGCTCG\n",
        "# TGAAGCATGTGGGGGTGAGCCCAGGGGCCCCAAGGCAGGGCACCTGGCCTTCAGCCTGCCTCAGCCCTGC\n",
        "# CTGTCTCCCAGATCACTGTCCTTCTGCCATGGCCCTGTGGATGCGCCTCCTGCCCCTGCTGGCGCTGCTG\n",
        "# GCCCTCTGGGGACCTGACCCAGCCGCAGCCTTTGTGAACCAACACCTGTGCGGCTCACACCTGGTGGAAG\n",
        "# CTCTCTACCTAGTGTGCGGGGAACGAGGCTTCTTCTACACACCCAAGACCCGCCGGGAGGCAGAGGACCT\n",
        "# GCAGGGTGAGCCAACTGCCCATTGCTGCCCCTGGCCGCCCCCAGCCACCCCCTGCTCCTGGCGCTCCCAC\n",
        "# CCAGCATGGGCAGAAGGGGGCAGGAGGCTGCCACCCAGCAGGGGGTCAGGTGCACTTTTTTAAAAAGAAG\n",
        "# TTCTCTTGGTCACGTCCTAAAAGTGACCAGCTCCCTGTGGCCCAGTCAGAATCTCAGCCTGAGGACGGTG\n",
        "# TTGGCTTCGGCAGCCCCGAGATACATCAGAGGGTGGGCACGCTCCTCCCTCCACTCGCCCCTCAAACAAA\n",
        "# TGCCCCGCAGCCCATTTCTCCACCCTCATTTGATGACCGCAGATTCAAGTGTTTTGTTAAGTAAAGTCCT\n",
        "# GGGTGACCTGGGGTCACAGGGTGCCCCACGCTGCCTGCCTCTGGGCGAACACCCCATCACGCCCGGAGGA\n",
        "# GGGCGTGGCTGCCTGCCTGAGTGGGCCAGACCCCTGTCGCCAGGCCTCACGGCAGCTCCATAGTCAGGAG\n",
        "# ATGGGGAAGATGCTGGGGACAGGCCCTGGGGAGAAGTACTGGGATCACCTGTTCAGGCTCCCACTGTGAC\n",
        "# GCTGCCCCGGGGCGGGGGAAGGAGGTGGGACATGTGGGCGTTGGGGCCTGTAGGTCCACACCCAGTGTGG\n",
        "# GTGACCCTCCCTCTAACCTGGGTCCAGCCCGGCTGGAGATGGGTGGGAGTGCGACCTAGGGCTGGCGGGC\n",
        "# AGGCGGGCACTGTGTCTCCCTGACTGTGTCCTCCTGTGTCCCTCTGCCTCGCCGCTGTTCCGGAACCTGC\n",
        "# TCTGCGCGGCACGTCCTGGCAGTGGGGCAGGTGGAGCTGGGCGGGGGCCCTGGTGCAGGCAGCCTGCAGC\n",
        "# CCTTGGCCCTGGAGGGGTCCCTGCAGAAGCGTGGCATTGTGGAACAATGCTGTACCAGCATCTGCTCCCT\n",
        "# CTACCAGCTGGAGAACTACTGCAACTAGACGCAGCCCGCAGGCAGCCCCACACCCGCCGCCTCCTGCACC\n",
        "# GAGAGAGATGGAATAAAGCCCTTGAACCAGC\"\"\"\n",
        "dna= \"TACGTGTC\"\n",
        "\n",
        "def mRNA(dna):\n",
        "  dna = dna.upper()\n",
        "  revcomp = reverseComplement(dna)\n",
        "  revcomp = revcomp.replace(\"T\", \"U\")\n",
        "  return revcomp[::-1]\n",
        "\n",
        "print(\"The mRNA sequence is: \\n\", mRNA(dna))"
      ],
      "metadata": {
        "colab": {
          "base_uri": "https://localhost:8080/"
        },
        "id": "NrCx24EIfhRW",
        "outputId": "2bdd1fdd-26d1-4371-a858-dbfd1e0b1358"
      },
      "execution_count": 30,
      "outputs": [
        {
          "output_type": "stream",
          "name": "stdout",
          "text": [
            "The mRNA sequence is: \n",
            " AUGCACAG\n"
          ]
        }
      ]
    },
    {
      "cell_type": "code",
      "source": [
        "#Q8: Check the existence of a start codon in the mRNA sequence\n",
        "import re;\n",
        "mrna = \"UUCUACAAUGCCUACCUAACA\"\n",
        "pos = re.search(\"AUG\",mrna)\n",
        "if(pos):\n",
        "  print(\"The start codon AUG is present in the mRNA sequence\")\n",
        "  print(\"The occurrence is at : \",pos.start())\n",
        "else:\n",
        "  print(\"The start codon AUG is  not present in the mRNA sequence\")\n"
      ],
      "metadata": {
        "colab": {
          "base_uri": "https://localhost:8080/"
        },
        "id": "5gRVooIgPR8-",
        "outputId": "6e66c1dd-a4b5-4b71-d4ab-3c175e3bd2b2"
      },
      "execution_count": 32,
      "outputs": [
        {
          "output_type": "stream",
          "name": "stdout",
          "text": [
            "The start codon AUG is present in the mRNA sequence\n",
            "The occurrence is at :  7\n"
          ]
        }
      ]
    },
    {
      "cell_type": "code",
      "source": [
        "#Q9: Check the existence of stop codon in the mRNA sequence\n",
        "#Stop Codons are UAA,UAG,UGA\n",
        "import re\n",
        "\n",
        "pos = re.search(\"UAA|UAG|UGA\",mrna)\n",
        "if(pos):\n",
        "  print(\"The stop codon is present in the mRNA sequence\")\n",
        "  print(\"The occurrence of \",pos.group(),\" is at : \",pos.start())\n",
        "else:\n",
        "  print(\"The stop codon not present in the mRNA sequence\")\n"
      ],
      "metadata": {
        "colab": {
          "base_uri": "https://localhost:8080/"
        },
        "id": "HjQine18SSwp",
        "outputId": "c924a7ea-6adc-46bb-c156-ebec260e8ebc"
      },
      "execution_count": 33,
      "outputs": [
        {
          "output_type": "stream",
          "name": "stdout",
          "text": [
            "The stop codon is present in the mRNA sequence\n",
            "The occurrence of  UAA  is at :  16\n"
          ]
        }
      ]
    },
    {
      "cell_type": "code",
      "source": [
        "#Q10: Find positions of the start and stop codon present in an mRNA sequence. Extract the coding region using the start and stop codons.\n",
        "exp = \"AUG\\w+UAA|UAG|UGA\";\n",
        "x= re.search(exp,mrna);\n",
        "str_ = x.group()[:-3]\n",
        "print(\"The coding region is (with stop codon) : \",x.group())\n",
        "print(\"The coding region is : \",str_)\n"
      ],
      "metadata": {
        "colab": {
          "base_uri": "https://localhost:8080/"
        },
        "id": "GZfhDXUUPRzS",
        "outputId": "8579b85d-1b5b-47df-987e-58f77a0b9019"
      },
      "execution_count": 37,
      "outputs": [
        {
          "output_type": "stream",
          "name": "stdout",
          "text": [
            "The coding region is (with stop codon) :  AUGCCUACCUAA\n",
            "The coding region is :  AUGCCUACC\n"
          ]
        }
      ]
    },
    {
      "cell_type": "code",
      "source": [
        "#Q11: Use a python dictionary to convert an peptide chain from its one letter codon representation to three letter codon representation\n",
        "cipher = {'A':'ALA','C':'CYS','D':'ASP','E':'GLU','F':'PHE','G':'GLY',\n",
        "                     'H':'HIS','I':'ILE','K':'LYS','L':'LEU','M':'MET','N':'ASN',\n",
        "                     'P':'PRO','Q':'QLN','R':'ARG','S':'SER','T':'THR','V':'VAL',\n",
        "                     'W':'TRP','Y':'TYR'}\n",
        "peptide1 = \"MASKATLLLAFTLLFATCIA\"\n",
        "peptide_repl=\"\"\n",
        "for acid in peptide1:\n",
        "  \t peptide_repl += cipher[acid]+\" \"\n",
        "print(\"Polypeptide chain\")\n",
        "print(\"Three letter code: \",peptide_repl)"
      ],
      "metadata": {
        "colab": {
          "base_uri": "https://localhost:8080/"
        },
        "id": "O-J6EdizYu5b",
        "outputId": "37841e4a-74ac-4350-8f6f-3736748d8e17"
      },
      "execution_count": 40,
      "outputs": [
        {
          "output_type": "stream",
          "name": "stdout",
          "text": [
            "Polypeptide chain\n",
            "Three letter code:  MET ALA SER LYS ALA THR LEU LEU LEU ALA PHE THR LEU LEU PHE ALA THR CYS ILE ALA \n"
          ]
        }
      ]
    },
    {
      "cell_type": "code",
      "source": [
        "# Q12 : calculates the molecular weight of a protein based on weight  of individual amino acids (Given as a dictionary)\n",
        "# There is a correction due to the fact that each bond involves the loss of a water molecule (with molecular weight of 18)\n",
        "peptide = \"MASKATLLLAFTLLFATCIA\"\n",
        "prot_weight = {'A':89, 'V':117, 'L':131, 'I':131, 'P':115,\n",
        " 'F':165, 'W':204, 'M':149, 'G':75, 'S':105,\n",
        " 'C':121, 'T':119, 'Y':181, 'N':132, 'Q':146,\n",
        "'D':133, 'E':147, 'K':146, 'R':174, 'H':155}\n",
        "weight = 0\n",
        "peptide = peptide.upper()\n",
        "for acid in peptide:\n",
        "  weight += prot_weight[acid]\n",
        "weight -= 18*(len(peptide) - 1)\n",
        "print(\"The net weight of the Protein is: \", weight)"
      ],
      "metadata": {
        "colab": {
          "base_uri": "https://localhost:8080/"
        },
        "id": "umHTv-gPcykL",
        "outputId": "23eb8381-2312-4833-91b0-f05b7e3abf41"
      },
      "execution_count": 41,
      "outputs": [
        {
          "output_type": "stream",
          "name": "stdout",
          "text": [
            "The net weight of the Protein is:  2097\n"
          ]
        }
      ]
    }
  ]
}