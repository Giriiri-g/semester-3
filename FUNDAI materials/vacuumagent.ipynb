{
  "nbformat": 4,
  "nbformat_minor": 0,
  "metadata": {
    "colab": {
      "provenance": []
    },
    "kernelspec": {
      "name": "python3",
      "display_name": "Python 3"
    },
    "language_info": {
      "name": "python"
    }
  },
  "cells": [
    {
      "cell_type": "markdown",
      "source": [
        "This is a short automated vaccum cleaner agent code. There is no need to give any input from the user. It understands the envirnoment and takes the decision.Can run in any python environment such as Jupyter Notebook, Google Colab, PyCharm, etc"
      ],
      "metadata": {
        "id": "uEYN6B38Xbau"
      }
    },
    {
      "cell_type": "code",
      "source": [
        "import random\n",
        "\n",
        "\n",
        "class Environment(object):\n",
        "    def __init__(self):\n",
        "        self.locationCondition = {'A': '0', 'B': '0'}\n",
        "        self.locationCondition['A'] = random.randint(0, 1)\n",
        "        self.locationCondition['B'] = random.randint(0, 1)\n",
        "\n",
        "\n",
        "class SimpleReflexVacuumAgent(Environment):\n",
        "    def __init__(self, Environment):\n",
        "        print (Environment.locationCondition)\n",
        "        Score = 0\n",
        "        vacuumLocation = random.randint(0, 1)\n",
        "        if vacuumLocation == 0:\n",
        "            print (\"Vacuum is randomly placed at Location A.\")\n",
        "            print (\"Location A is Dirty.\") if Environment.locationCondition['A'] == 1 else print(\"Location xA is Clean.\")\n",
        "            if Environment.locationCondition['A'] == 1:\n",
        "                Environment.locationCondition['A'] = 0\n",
        "                Score += 1\n",
        "                print (\"Location A has been Cleaned.\")\n",
        "            print (\"Moving to Location B...\")\n",
        "            print (\"Location B is Dirty.\") if Environment.locationCondition['B'] == 1 else print(\"Location B is Clean.\")\n",
        "            if Environment.locationCondition['B'] == 1:\n",
        "                Environment.locationCondition['B'] = 0;\n",
        "                Score += 1\n",
        "                print (\"Location B has been Cleaned.\")\n",
        "            print(\"Environment is Clean.\")\n",
        "\n",
        "        elif vacuumLocation == 1:\n",
        "            print (\"Vacuum randomly placed at Location B.\")\n",
        "            print (\"Location B is Dirty.\") if Environment.locationCondition['B'] == 1 else print(\"Location B is Clean.\")\n",
        "            if Environment.locationCondition['B'] == 1:\n",
        "                Environment.locationCondition['B'] = 0\n",
        "                Score += 1\n",
        "                print (\"Location B has been Cleaned.\")\n",
        "            print (\"Moving to Location A...\")\n",
        "            print (\"Location A is Dirty.\") if Environment.locationCondition['A'] == 1 else print(\"Location A is Clean.\")\n",
        "            if Environment.locationCondition['A'] == 1:\n",
        "                Environment.locationCondition['A'] = 0;\n",
        "                Score += 1\n",
        "                print (\"Location A has been Cleaned.\")\n",
        "            print(\"Environment is Clean.\")\n",
        "\n",
        "        print (Environment.locationCondition)\n",
        "        print (\"Performance Measurement: \" + str(Score))\n",
        "\n",
        "\n",
        "theEnvironment = Environment()\n",
        "theVacuum = SimpleReflexVacuumAgent(theEnvironment)"
      ],
      "metadata": {
        "id": "SVIhZfk-XLsE",
        "outputId": "a6d1faa2-dcea-4f82-9244-8693531793ab",
        "colab": {
          "base_uri": "https://localhost:8080/"
        }
      },
      "execution_count": 1,
      "outputs": [
        {
          "output_type": "stream",
          "name": "stdout",
          "text": [
            "{'A': 1, 'B': 1}\n",
            "Vacuum is randomly placed at Location A.\n",
            "Location A is Dirty.\n",
            "Location A has been Cleaned.\n",
            "Moving to Location B...\n",
            "Location B is Dirty.\n",
            "Location B has been Cleaned.\n",
            "Environment is Clean.\n",
            "{'A': 0, 'B': 0}\n",
            "Performance Measurement: 2\n"
          ]
        }
      ]
    },
    {
      "cell_type": "markdown",
      "source": [
        "What changes you would bring about in the above code if you want the agent to consider 4 locations A,B,C,D instead of 2? Rewrite and execute the code.\n"
      ],
      "metadata": {
        "id": "Ec7lN4NeYU7W"
      }
    },
    {
      "cell_type": "markdown",
      "source": [
        "![image.png](\n",
        "  \n",
        ")![image.png](data:image/png;base64,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)"
      ],
      "metadata": {
        "id": "IUg-TBpDJMaI"
      }
    },
    {
      "cell_type": "code",
      "source": [
        "import random\n",
        "\n",
        "\n",
        "class Environment(object):\n",
        "  def __init__(self):\n",
        "    self.locationCondition = [random.randint(0,1) for i in range(4)] # [1, 0, 1, 1]\n",
        "    self.locationNames = ['A', 'B', 'C', 'D']\n",
        "\n",
        "\n",
        "class SimpleReflexVacuumAgent(Environment):\n",
        "  def __init__(self, Environment):\n",
        "    print(Environment.locationCondition) # [1, 0, 1, 1]\n",
        "    score = 0\n",
        "    spawn = random.randint(0, 3)  # spawn = 2, order = 2, 3, 0, 1\n",
        "    print(f'Vacuum is randomly placed at Location {Environment.locationNames[spawn]}.')\n",
        "    for i in range(4):\n",
        "      if Environment.locationCondition[(spawn + i) % 4] == 1:\n",
        "        print(f\"Location {Environment.locationNames[(spawn + i) % 4]} is Dirty.\")\n",
        "        # clean room\n",
        "        Environment.locationCondition[(spawn + i) % 4] = 0\n",
        "        score+=1\n",
        "        print(f\"Location {Environment.locationNames[(spawn + i) % 4]} has been Cleaned.\")\n",
        "      else:\n",
        "        print(f\"Location {Environment.locationNames[(spawn + i) % 4]} is Clean.\")\n",
        "\n",
        "    print(\"Environment is clean.\")\n",
        "    print(Environment.locationCondition)\n",
        "    print(f\"Performance Measurement: {score}.\")\n",
        "\n",
        "\n",
        "theEnvironment = Environment()\n",
        "theVacuum = SimpleReflexVacuumAgent(theEnvironment)"
      ],
      "metadata": {
        "id": "22hk61UYotBq",
        "outputId": "d901f0c6-7852-44cb-b22e-6d09833f4b10",
        "colab": {
          "base_uri": "https://localhost:8080/"
        }
      },
      "execution_count": 21,
      "outputs": [
        {
          "output_type": "stream",
          "name": "stdout",
          "text": [
            "[0, 1, 0, 1]\n",
            "Vacuum is randomly placed at Location D.\n",
            "Location D is Dirty.\n",
            "Location D has been Cleaned.\n",
            "Location A is Clean.\n",
            "Location B is Dirty.\n",
            "Location B has been Cleaned.\n",
            "Location C is Clean.\n",
            "Environment is clean.\n",
            "[0, 0, 0, 0]\n",
            "Performance Measurement: 2.\n"
          ]
        }
      ]
    }
  ]
}