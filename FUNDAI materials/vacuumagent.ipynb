{
  "nbformat": 4,
  "nbformat_minor": 0,
  "metadata": {
    "colab": {
      "provenance": []
    },
    "kernelspec": {
      "name": "python3",
      "display_name": "Python 3"
    },
    "language_info": {
      "name": "python"
    }
  },
  "cells": [
    {
      "cell_type": "markdown",
      "source": [
        "This is a short automated vaccum cleaner agent code. There is no need to give any input from the user. It understands the envirnoment and takes the decision.Can run in any python environment such as Jupyter Notebook, Google Colab, PyCharm, etc"
      ],
      "metadata": {
        "id": "uEYN6B38Xbau"
      }
    },
    {
      "cell_type": "code",
      "source": [
        "import random\n",
        "\n",
        "\n",
        "class Environment(object):\n",
        "    def __init__(self):\n",
        "        self.locationCondition = {'A': '0', 'B': '0'}\n",
        "        self.locationCondition['A'] = random.randint(0, 1)\n",
        "        self.locationCondition['B'] = random.randint(0, 1)\n",
        "\n",
        "\n",
        "class SimpleReflexVacuumAgent(Environment):\n",
        "    def __init__(self, Environment):\n",
        "        print (Environment.locationCondition)\n",
        "        Score = 0\n",
        "        vacuumLocation = random.randint(0, 1)\n",
        "        if vacuumLocation == 0:\n",
        "            print (\"Vacuum is randomly placed at Location A.\")\n",
        "            print (\"Location A is Dirty.\") if Environment.locationCondition['A'] == 1 else print(\"Location xA is Clean.\")\n",
        "            if Environment.locationCondition['A'] == 1:\n",
        "                Environment.locationCondition['A'] = 0\n",
        "                Score += 1\n",
        "                print (\"Location A has been Cleaned.\")\n",
        "            print (\"Moving to Location B...\")\n",
        "            print (\"Location B is Dirty.\") if Environment.locationCondition['B'] == 1 else print(\"Location B is Clean.\")\n",
        "            if Environment.locationCondition['B'] == 1:\n",
        "                Environment.locationCondition['B'] = 0;\n",
        "                Score += 1\n",
        "                print (\"Location B has been Cleaned.\")\n",
        "            print(\"Environment is Clean.\")\n",
        "\n",
        "        elif vacuumLocation == 1:\n",
        "            print (\"Vacuum randomly placed at Location B.\")\n",
        "            print (\"Location B is Dirty.\") if Environment.locationCondition['B'] == 1 else print(\"Location B is Clean.\")\n",
        "            if Environment.locationCondition['B'] == 1:\n",
        "                Environment.locationCondition['B'] = 0\n",
        "                Score += 1\n",
        "                print (\"Location B has been Cleaned.\")\n",
        "            print (\"Moving to Location A...\")\n",
        "            print (\"Location A is Dirty.\") if Environment.locationCondition['A'] == 1 else print(\"Location A is Clean.\")\n",
        "            if Environment.locationCondition['A'] == 1:\n",
        "                Environment.locationCondition['A'] = 0;\n",
        "                Score += 1\n",
        "                print (\"Location A has been Cleaned.\")\n",
        "            print(\"Environment is Clean.\")\n",
        "\n",
        "        print (Environment.locationCondition)\n",
        "        print (\"Performance Measurement: \" + str(Score))\n",
        "\n",
        "\n",
        "theEnvironment = Environment()\n",
        "theVacuum = SimpleReflexVacuumAgent(theEnvironment)"
      ],
      "metadata": {
        "id": "SVIhZfk-XLsE"
      },
      "execution_count": null,
      "outputs": []
    },
    {
      "cell_type": "markdown",
      "source": [
        "What changes you would bring about in the above code if you want the agent to consider 4 locations A,B,C,D instead of 2? Rewrite and execute the code.\n"
      ],
      "metadata": {
        "id": "Ec7lN4NeYU7W"
      }
    },
    {
      "cell_type": "code",
      "source": [
        "import random\n",
        "\n",
        "\n",
        "class Environment(object):\n",
        "  def __init__(self):\n",
        "    self.locationCondition = {'A': 0, 'B': 0, 'C':0, 'D':0}\n",
        "    self.locationCondition['A'] = random.randint(0, 1)\n",
        "    self.locationCondition['B'] = random.randint(0, 1)\n",
        "    self.locationCondition['C'] = random.randint(0, 1)\n",
        "    self.locationCondition['D'] = random.randint(0, 1)\n",
        "\n",
        "\n",
        "class SimpleReflexVacuumAgent(Environment):\n",
        "  def __init__(self, Environment):\n",
        "    print(Environment.locationCondition)\n",
        "    Score = 0\n",
        "    vacuumLocation = random.randint(0, 1)\n",
        "    if vacuumLocation == 0:\n",
        "      print(\"Vacuum is randomly placed at Location A.\")\n",
        "      print(\"Location A is Dirty.\") if Environment.locationCondition['A'] == 1 else print(\"Location xA is Clean.\")\n",
        "      if Environment.locationCondition['A'] == 1:\n",
        "        Environment.locationCondition['A'] = 0\n",
        "        Score += 1\n",
        "        print(\"Location A has been Cleaned.\")\n",
        "      print(\"Moving to Location B...\")\n",
        "      print(\"Location B is Dirty.\") if Environment.locationCondition['B'] == 1 else print(\"Location B is Clean.\")\n",
        "      if Environment.locationCondition['B'] == 1:\n",
        "        Environment.locationCondition['B'] = 0;\n",
        "        Score += 1\n",
        "        print(\"Location B has been Cleaned.\")\n",
        "      print(\"Environment is Clean.\")\n",
        "\n",
        "    elif vacuumLocation == 1:\n",
        "      print(\"Vacuum randomly placed at Location B.\")\n",
        "      print(\"Location B is Dirty.\") if Environment.locationCondition['B'] == 1 else print(\"Location B is Clean.\")\n",
        "      if Environment.locationCondition['B'] == 1:\n",
        "        Environment.locationCondition['B'] = 0\n",
        "        Score += 1\n",
        "        print(\"Location B has been Cleaned.\")\n",
        "        print(\"Moving to Location A...\")\n",
        "      print(\"Location A is Dirty.\") if Environment.locationCondition['A'] == 1 else print(\"Location A is Clean.\")\n",
        "      if Environment.locationCondition['A'] == 1:\n",
        "        Environment.locationCondition['A'] = 0;\n",
        "        Score += 1\n",
        "        print(\"Location A has been Cleaned.\")\n",
        "      print(\"Environment is Clean.\")\n",
        "\n",
        "    print(Environment.locationCondition)\n",
        "    print(\"Performance Measurement: \" + str(Score))\n",
        "\n",
        "\n",
        "theEnvironment = Environment()\n",
        "theVacuum = SimpleReflexVacuumAgent(theEnvironment)"
      ],
      "metadata": {
        "id": "22hk61UYotBq"
      },
      "execution_count": null,
      "outputs": []
    }
  ]
}