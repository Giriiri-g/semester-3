{
  "cells": [
    {
      "cell_type": "markdown",
      "metadata": {
        "id": "_SmqYAuQRIg2"
      },
      "source": [
        "#QUESTION 2: Intelligent Agents: Reflex-Based Agents for the Vacuum-cleaner World\n",
        "\n",
        "\n",
        "\n",
        "Now that you are having a basic knowledge of how the agent must work, recall our discussions regarding the agent types and environment. We will now include the PEAS information and redesign the agent.\n",
        "In this assignment you will implement a simulator environment for an automatic vacuum cleaner robot, a set of different reflex-based agent programs, and perform a comparison study for cleaning a single room. Focus on the __cleaning phase__ which starts when the robot is activated and ends when the last dirty square in the room has been cleaned. Someone else will take care of the agent program needed to navigate back to the charging station after the room is clean.\n",
        "\n",
        "## PEAS description of the cleaning phase\n",
        "\n",
        "__Performance Measure:__ Each action costs 1 energy unit. The performance is measured as the sum of the energy units used to clean the whole room.\n",
        "\n",
        "__Environment:__ A room with $n \\times n$ squares where $n = 5$. Dirt is randomly placed on each square with probability $p = 0.2$. For simplicity, you can assume that the agent knows the size and the layout of the room (i.e., it knows $n$). To start, the agent is placed on a random square.\n",
        "\n",
        "__Actuators:__ The agent can clean the current square (action `suck`) or move to an adjacent square by going `north`, `east`, `south`, or `west`.\n",
        "\n",
        "__Sensors:__ Four bumper sensors, one for north, east, south, and west; a dirt sensor reporting dirt in the current square.  \n",
        "\n",
        "\n",
        "## The agent program for a simple randomized agent\n",
        "\n",
        "The agent program is a function that gets sensor information (the current percepts) as the arguments. The arguments are:\n",
        "\n",
        "* A dictionary with boolean entries for the for bumper sensors `north`, `east`, `west`, `south`. E.g., if the agent is on the north-west corner, `bumpers` will be `{\"north\" : True, \"east\" : False, \"south\" : False, \"west\" : True}`.\n",
        "* The dirt sensor produces a boolean.\n",
        "\n",
        "The agent returns the chosen action as a string.\n",
        "\n",
        "Here is an example implementation for the agent program of a simple randomized agent:  "
      ]
    },
    {
      "cell_type": "code",
      "execution_count": 3,
      "metadata": {
        "id": "fbsBjpwTRIg6"
      },
      "outputs": [],
      "source": [
        "import numpy as np\n",
        "\n",
        "actions = [\"north\", \"east\", \"west\", \"south\", \"suck\"]\n",
        "\n",
        "def simple_randomized_agent(bumpers, dirty):\n",
        "    return np.random.choice(actions)"
      ]
    },
    {
      "cell_type": "code",
      "execution_count": 4,
      "metadata": {
        "id": "GrJ5fA1uRIg8",
        "outputId": "0afcfcc4-ce3e-48c5-d037-7d7f405d8db5",
        "colab": {
          "base_uri": "https://localhost:8080/",
          "height": 36
        }
      },
      "outputs": [
        {
          "output_type": "execute_result",
          "data": {
            "text/plain": [
              "'east'"
            ],
            "application/vnd.google.colaboratory.intrinsic+json": {
              "type": "string"
            }
          },
          "metadata": {},
          "execution_count": 4
        }
      ],
      "source": [
        "# define percepts (current location is NW corner and it is dirty)\n",
        "bumpers = {\"north\" : True, \"east\" : False, \"south\" : False, \"west\" : True}\n",
        "dirty = True\n",
        "\n",
        "# call agent program function with percepts and it returns an action\n",
        "simple_randomized_agent(bumpers, dirty)"
      ]
    },
    {
      "cell_type": "markdown",
      "metadata": {
        "id": "TFJ53sPFRIg9"
      },
      "source": [
        "__Note:__ This is not a rational intelligent agent. It ignores its sensors and may bump into a wall repeatedly or not clean a dirty square. You will be asked to implement rational agents below."
      ]
    },
    {
      "cell_type": "markdown",
      "metadata": {
        "id": "V-HnubcwRIg9"
      },
      "source": [
        "## Simple environment example\n",
        "\n",
        "We implement a simple simulation environment that supplies the agent with its percepts.\n",
        "The simple environment is infinite in size (bumpers are always `False`) and every square is always dirty, even if the agent cleans it. The environment function returns a performance measure which is here the number of cleaned squares (since the room is infinite and all squares are constantly dirty, the agent can never clean the whole room as required in the PEAS description above). The energy budget of the agent is specified as `max_steps`."
      ]
    },
    {
      "cell_type": "code",
      "execution_count": 5,
      "metadata": {
        "id": "FWzejLH5RIg9"
      },
      "outputs": [],
      "source": [
        "def simple_environment(agent, max_steps, verbose = True):\n",
        "    num_cleaned = 0\n",
        "\n",
        "    for i in range(max_steps):\n",
        "        dirty = True\n",
        "        bumpers = {\"north\" : False, \"south\" : False, \"west\" : False, \"east\" : False}\n",
        "\n",
        "        action = agent(bumpers, dirty)\n",
        "        if (verbose): print(\"step\", i , \"- action:\", action)\n",
        "\n",
        "        if (action == \"suck\"):\n",
        "            num_cleaned = num_cleaned + 1\n",
        "\n",
        "    return num_cleaned\n",
        "\n"
      ]
    },
    {
      "cell_type": "markdown",
      "metadata": {
        "id": "bRZwjISJRIg-"
      },
      "source": [
        "Do one simulation run with a simple randomized agent that has enough energy for 20 steps."
      ]
    },
    {
      "cell_type": "code",
      "execution_count": 6,
      "metadata": {
        "id": "745ouYk8RIg-",
        "outputId": "4209817e-2b77-48ce-85f6-45688cdfabb2",
        "colab": {
          "base_uri": "https://localhost:8080/"
        }
      },
      "outputs": [
        {
          "output_type": "stream",
          "name": "stdout",
          "text": [
            "step 0 - action: north\n",
            "step 1 - action: south\n",
            "step 2 - action: east\n",
            "step 3 - action: east\n",
            "step 4 - action: suck\n",
            "step 5 - action: east\n",
            "step 6 - action: east\n",
            "step 7 - action: south\n",
            "step 8 - action: west\n",
            "step 9 - action: south\n",
            "step 10 - action: east\n",
            "step 11 - action: east\n",
            "step 12 - action: suck\n",
            "step 13 - action: south\n",
            "step 14 - action: suck\n",
            "step 15 - action: south\n",
            "step 16 - action: east\n",
            "step 17 - action: north\n",
            "step 18 - action: suck\n",
            "step 19 - action: west\n"
          ]
        },
        {
          "output_type": "execute_result",
          "data": {
            "text/plain": [
              "4"
            ]
          },
          "metadata": {},
          "execution_count": 6
        }
      ],
      "source": [
        "simple_environment(simple_randomized_agent, max_steps = 20)"
      ]
    },
    {
      "cell_type": "markdown",
      "metadata": {
        "id": "Gn0zP6XHRIg-"
      },
      "source": [
        "# Tasks\n",
        "\n",
        "\n",
        "1. Make sure that you use the latest version of this notebook. Sync your forked repository and pull the latest revision.\n",
        "2. Your implementation can use libraries like math, numpy, scipy, but not libraries that implement intelligent agents or complete search algorithms. Try to keep the code simple! In this course, we want to learn about the algorithms and we often do not need to use object-oriented design.\n",
        "3. You notebook needs to be formatted professionally.\n",
        "    - Add additional markdown blocks for your description, comments in the code, add tables and use mathplotlib to produce charts where appropriate\n",
        "    - Do not show debugging output or include an excessive amount of output.\n",
        "    - Check that your PDF file is readable. For example, long lines are cut off in the PDF file. You don't have control over page breaks, so do not worry about these.\n",
        "4. Document your code. Add a short discussion of how your implementation works and your design choices.\n",
        "\n",
        "\n",
        "## Task 1: Implement a simulation environment\n",
        "\n",
        "The simple environment above is not very realistic. Your environment simulator needs to follow the PEAS description from above. It needs to:\n",
        "\n",
        "* Initialize the environment by storing the state of each square (clean/dirty) and making some dirty.\n",
        "* Keep track of the agent's position.\n",
        "* Call the agent function repeatedly and provide the agent function with the sensor inputs.  \n",
        "* React to the agent's actions. E.g, by removing dirt from a square or moving the agent around unless there is a wall in the way.\n",
        "* Keep track of the performance measure. That is, track the agent's actions until all dirty squares are clean and count the number of actions it takes the agent to complete the task.\n",
        "\n",
        "The easiest implementation for the environment is to hold an 2-dimensional array to represent if squares are clean or dirty and to call the agent function in a loop until all squares are clean or a predefined number of steps have been reached (i.e., the robot runs out of energy).\n",
        "\n",
        "The simulation environment should be a function like the `simple_environment()` and needs to work with the simple randomized agent program from above. **Use the same environment for all your agent implementations in the tasks below.**\n",
        "\n",
        "*Note on debugging:* Debugging is difficult. Make sure your environment prints enough information when you use `verbose = True`. Also, implementing a function that the environment can use to displays the room with dirt and the current position of the robot at every step is very useful.  "
      ]
    },
    {
      "cell_type": "code",
      "execution_count": 7,
      "metadata": {
        "id": "IodK7cWwRIg_",
        "outputId": "bc88451e-7c99-4b68-f331-5215e95e511a",
        "colab": {
          "base_uri": "https://localhost:8080/"
        }
      },
      "outputs": [
        {
          "output_type": "stream",
          "name": "stdout",
          "text": [
            "Vaccum Location: None\n",
            "Condition Matrix:\n",
            "[[0 0 0 0 0]\n",
            " [0 0 0 1 0]\n",
            " [0 0 1 0 0]\n",
            " [0 0 0 0 1]\n",
            " [0 0 0 0 1]]\n"
          ]
        }
      ],
      "source": [
        "import random\n",
        "import numpy\n",
        "\n",
        "class Environment():\n",
        "  def __init__(self):\n",
        "    self.condition= [[1 if random.random()<0.2 else 0 for i in range(5)] for i in range(5)]\n",
        "    self.location = None\n",
        "\n",
        "  def __str__(self):\n",
        "    mat = numpy.array(self.condition)\n",
        "    return \"Vaccum Location: \" + str(self.location) + \"\\nCondition Matrix:\\n\" + str(mat)\n",
        "\n",
        "  def isClean(self):\n",
        "    full_clean = numpy.zeros((5, 5))\n",
        "    return numpy.array_equal(self.condition, full_clean)\n",
        "\n",
        "env = Environment()\n",
        "print(env)"
      ]
    },
    {
      "cell_type": "markdown",
      "source": [
        "![image.png](data:image/png;base64,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)"
      ],
      "metadata": {
        "id": "3I7DdYrkpvRG"
      }
    },
    {
      "cell_type": "code",
      "source": [
        "z = numpy.zeros((5, 5))\n",
        "mat = [[0, 0, 0, 0, 0], [0, 0, 0, 0, 0], [0, 0, 0, 0, 0], [0, 0, 0, 0, 0], [0, 0, 0, 0, 0]]\n",
        "numpy.array_equal(z, mat)"
      ],
      "metadata": {
        "colab": {
          "base_uri": "https://localhost:8080/"
        },
        "id": "KOzDe7s3wBWY",
        "outputId": "f363a7ba-5a2d-422a-bd6f-238b06fd3258"
      },
      "execution_count": 8,
      "outputs": [
        {
          "output_type": "execute_result",
          "data": {
            "text/plain": [
              "True"
            ]
          },
          "metadata": {},
          "execution_count": 8
        }
      ]
    },
    {
      "cell_type": "code",
      "source": [
        "def Agent(bumpers, dirty):\n",
        "  # This is a simple agent\n",
        "  # it only considers the sensors as input and provides huge weight to their activation\n",
        "  # the agent has not learned path optimization or cost optimization\n",
        "  actions = [\"North\", \"East\", \"West\", \"South\"]\n",
        "  if dirty:\n",
        "    return \"Clean\"\n",
        "  Action = random.choice(actions)\n",
        "  while bumpers[Action] == True:\n",
        "    # if sensors are not activated choose direction to move randomly\n",
        "    Action = random.choice(actions)\n",
        "  return Action"
      ],
      "metadata": {
        "id": "2EdYUU-Kkunl"
      },
      "execution_count": 9,
      "outputs": []
    },
    {
      "cell_type": "code",
      "source": [
        "def Intelligent_Agent(bumpers, dirty, Environment):\n",
        "  \"\"\"\n",
        "  In Progress:\n",
        "  • should not traverse the same cells it has cleaned or moved over\n",
        "  • mark each visited cell\n",
        "  • if visiting a previous cell is neccessary, reduce that cost also\n",
        "  • dfs provides best score for cost optimization\n",
        "  \"\"\"\n",
        "  actions = [\"North\", \"East\", \"West\", \"South\"]\n",
        "  if dirty:\n",
        "    return \"Clean\"\n",
        "  Action = \"North\"\n",
        "  return Action"
      ],
      "metadata": {
        "id": "Uod6DSfX6ggW"
      },
      "execution_count": 10,
      "outputs": []
    },
    {
      "cell_type": "code",
      "source": [
        "def Agent_program(Agent, Environment, max_steps, verbose=False):\n",
        "  spawn = [random.randint(0, 4),random.randint(0, 4)]\n",
        "  cleaned = 0\n",
        "  Environment.location = spawn\n",
        "  dirty, bumpers = percept(Environment)\n",
        "  print(Environment)\n",
        "  for i in range(max_steps):\n",
        "    dirty, bumpers = percept(Environment)\n",
        "    Action = Agent(bumpers, dirty)\n",
        "    if Action == \"Clean\":\n",
        "      cleaned+=1\n",
        "    Effectors(Environment, Action)\n",
        "    if Environment.isClean():\n",
        "      print(\"Environment is clean\")\n",
        "      break\n",
        "    if verbose:\n",
        "      print(Environment)\n",
        "  print(\"Cells Cleaned :\", cleaned)"
      ],
      "metadata": {
        "id": "C2B3wB1cleZd"
      },
      "execution_count": 11,
      "outputs": []
    },
    {
      "cell_type": "code",
      "source": [
        "def percept(Environment):\n",
        "  bumpers = {}\n",
        "  loc = Environment.location\n",
        "\n",
        "  dirty = Environment.condition[loc[0]][loc[1]]\n",
        "\n",
        "  bumpers[\"North\"] = not bool(loc[0])\n",
        "  bumpers[\"West\"] = not bool(loc[1])\n",
        "  bumpers[\"East\"] = not bool(4-loc[1])\n",
        "  bumpers[\"South\"] = not bool(4-loc[0])\n",
        "  return dirty, bumpers\n",
        "\n",
        "def Effectors(Environment, Action):\n",
        "  loc = Environment.location\n",
        "  if Action == \"Clean\":\n",
        "    print(f\"Location ({loc[0]}, {loc[1]}) is Dirty.\")\n",
        "    Environment.condition[loc[0]][loc[1]] = 0\n",
        "    print(f\"Location ({loc[0]}, {loc[1]}) has been Cleaned.\")\n",
        "  elif Action == \"North\":\n",
        "    print(f\"Moving North - ({loc[0]-1}, {loc[1]})\")\n",
        "    Environment.location[0] -= 1\n",
        "  elif Action == \"East\":\n",
        "    print(f\"Moving East - ({loc[0]}, {loc[1]+1})\")\n",
        "    Environment.location[1] += 1\n",
        "  elif Action == \"West\":\n",
        "    print(f\"Moving West - ({loc[0]}, {loc[1]-1})\")\n",
        "    Environment.location[1] -= 1\n",
        "  else:\n",
        "    print(f\"Moving South - ({loc[0]+1}, {loc[1]})\")\n",
        "    Environment.location[0] += 1"
      ],
      "metadata": {
        "id": "DYSWuiHUwpGA"
      },
      "execution_count": 12,
      "outputs": []
    },
    {
      "cell_type": "markdown",
      "metadata": {
        "id": "7y69fDfDRIg_"
      },
      "source": [
        "\n",
        "\n",
        "The simple reflex agent randomly walks around but reacts to the bumper sensor by not bumping into the wall and to dirt with sucking. Implement the agent program as a function.\n",
        "\n",
        "_Note:_ Agents cannot directly use variable in the environment. They only gets the percepts as the arguments to the agent function."
      ]
    },
    {
      "cell_type": "markdown",
      "source": [
        "![image.png](data:image/png;base64,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)"
      ],
      "metadata": {
        "id": "RllX-1LBs-GO"
      }
    },
    {
      "cell_type": "code",
      "source": [
        "env = Environment()\n",
        "Agent_program(Agent, env, 500)"
      ],
      "metadata": {
        "id": "9wDuWkfpjr0-",
        "outputId": "8fa38b1b-25fe-4a93-ebc3-18ec4db884b9",
        "colab": {
          "base_uri": "https://localhost:8080/"
        }
      },
      "execution_count": 13,
      "outputs": [
        {
          "output_type": "stream",
          "name": "stdout",
          "text": [
            "Vaccum Location: [3, 4]\n",
            "Condition Matrix:\n",
            "[[0 1 0 1 0]\n",
            " [1 0 0 0 0]\n",
            " [1 0 1 1 0]\n",
            " [0 0 0 0 0]\n",
            " [0 0 1 0 0]]\n",
            "Moving North - (2, 4)\n",
            "Moving North - (1, 4)\n",
            "Moving West - (1, 3)\n",
            "Moving West - (1, 2)\n",
            "Moving South - (2, 2)\n",
            "Location (2, 2) is Dirty.\n",
            "Location (2, 2) has been Cleaned.\n",
            "Moving South - (3, 2)\n",
            "Moving North - (2, 2)\n",
            "Moving South - (3, 2)\n",
            "Moving South - (4, 2)\n",
            "Location (4, 2) is Dirty.\n",
            "Location (4, 2) has been Cleaned.\n",
            "Moving North - (3, 2)\n",
            "Moving North - (2, 2)\n",
            "Moving West - (2, 1)\n",
            "Moving West - (2, 0)\n",
            "Location (2, 0) is Dirty.\n",
            "Location (2, 0) has been Cleaned.\n",
            "Moving East - (2, 1)\n",
            "Moving South - (3, 1)\n",
            "Moving North - (2, 1)\n",
            "Moving North - (1, 1)\n",
            "Moving West - (1, 0)\n",
            "Location (1, 0) is Dirty.\n",
            "Location (1, 0) has been Cleaned.\n",
            "Moving South - (2, 0)\n",
            "Moving North - (1, 0)\n",
            "Moving North - (0, 0)\n",
            "Moving South - (1, 0)\n",
            "Moving North - (0, 0)\n",
            "Moving East - (0, 1)\n",
            "Location (0, 1) is Dirty.\n",
            "Location (0, 1) has been Cleaned.\n",
            "Moving South - (1, 1)\n",
            "Moving West - (1, 0)\n",
            "Moving North - (0, 0)\n",
            "Moving East - (0, 1)\n",
            "Moving West - (0, 0)\n",
            "Moving East - (0, 1)\n",
            "Moving West - (0, 0)\n",
            "Moving East - (0, 1)\n",
            "Moving South - (1, 1)\n",
            "Moving East - (1, 2)\n",
            "Moving East - (1, 3)\n",
            "Moving North - (0, 3)\n",
            "Location (0, 3) is Dirty.\n",
            "Location (0, 3) has been Cleaned.\n",
            "Moving South - (1, 3)\n",
            "Moving West - (1, 2)\n",
            "Moving East - (1, 3)\n",
            "Moving East - (1, 4)\n",
            "Moving South - (2, 4)\n",
            "Moving West - (2, 3)\n",
            "Location (2, 3) is Dirty.\n",
            "Location (2, 3) has been Cleaned.\n",
            "Environment is clean\n",
            "Cells Cleaned : 7\n"
          ]
        }
      ]
    },
    {
      "cell_type": "code",
      "execution_count": 14,
      "metadata": {
        "id": "X5jc9xu6RIg_"
      },
      "outputs": [],
      "source": [
        "# Your code and description goes here"
      ]
    },
    {
      "cell_type": "markdown",
      "metadata": {
        "id": "d3YR-6jJRIhA"
      },
      "source": []
    }
  ],
  "metadata": {
    "kernelspec": {
      "display_name": "Python 3 (ipykernel)",
      "language": "python",
      "name": "python3"
    },
    "language_info": {
      "codemirror_mode": {
        "name": "ipython",
        "version": 3
      },
      "file_extension": ".py",
      "mimetype": "text/x-python",
      "name": "python",
      "nbconvert_exporter": "python",
      "pygments_lexer": "ipython3",
      "version": "3.10.12"
    },
    "toc-autonumbering": false,
    "colab": {
      "provenance": []
    }
  },
  "nbformat": 4,
  "nbformat_minor": 0
}