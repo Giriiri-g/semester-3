{
  "cells": [
    {
      "cell_type": "markdown",
      "metadata": {
        "id": "_SmqYAuQRIg2"
      },
      "source": [
        "#QUESTION 2: Intelligent Agents: Reflex-Based Agents for the Vacuum-cleaner World\n",
        "\n",
        "\n",
        "\n",
        "Now that you are having a basic knowledge of how the agent must work, recall our discussions regarding the agent types and environment. We will now include the PEAS information and redesign the agent.\n",
        "In this assignment you will implement a simulator environment for an automatic vacuum cleaner robot, a set of different reflex-based agent programs, and perform a comparison study for cleaning a single room. Focus on the __cleaning phase__ which starts when the robot is activated and ends when the last dirty square in the room has been cleaned. Someone else will take care of the agent program needed to navigate back to the charging station after the room is clean.\n",
        "\n",
        "## PEAS description of the cleaning phase\n",
        "\n",
        "__Performance Measure:__ Each action costs 1 energy unit. The performance is measured as the sum of the energy units used to clean the whole room.\n",
        "\n",
        "__Environment:__ A room with $n \\times n$ squares where $n = 5$. Dirt is randomly placed on each square with probability $p = 0.2$. For simplicity, you can assume that the agent knows the size and the layout of the room (i.e., it knows $n$). To start, the agent is placed on a random square.\n",
        "\n",
        "__Actuators:__ The agent can clean the current square (action `suck`) or move to an adjacent square by going `north`, `east`, `south`, or `west`.\n",
        "\n",
        "__Sensors:__ Four bumper sensors, one for north, east, south, and west; a dirt sensor reporting dirt in the current square.  \n",
        "\n",
        "\n",
        "## The agent program for a simple randomized agent\n",
        "\n",
        "The agent program is a function that gets sensor information (the current percepts) as the arguments. The arguments are:\n",
        "\n",
        "* A dictionary with boolean entries for the for bumper sensors `north`, `east`, `west`, `south`. E.g., if the agent is on the north-west corner, `bumpers` will be `{\"north\" : True, \"east\" : False, \"south\" : False, \"west\" : True}`.\n",
        "* The dirt sensor produces a boolean.\n",
        "\n",
        "The agent returns the chosen action as a string.\n",
        "\n",
        "Here is an example implementation for the agent program of a simple randomized agent:  "
      ]
    },
    {
      "cell_type": "code",
      "execution_count": 14,
      "metadata": {
        "id": "fbsBjpwTRIg6"
      },
      "outputs": [],
      "source": [
        "import numpy as np\n",
        "\n",
        "actions = [\"north\", \"east\", \"west\", \"south\", \"suck\"]\n",
        "\n",
        "def simple_randomized_agent(bumpers, dirty):\n",
        "    return np.random.choice(actions)"
      ]
    },
    {
      "cell_type": "code",
      "execution_count": 15,
      "metadata": {
        "id": "GrJ5fA1uRIg8",
        "outputId": "2457e2d5-4455-4dc5-8ac0-bb3e0635ffe3",
        "colab": {
          "base_uri": "https://localhost:8080/",
          "height": 36
        }
      },
      "outputs": [
        {
          "output_type": "execute_result",
          "data": {
            "text/plain": [
              "'west'"
            ],
            "application/vnd.google.colaboratory.intrinsic+json": {
              "type": "string"
            }
          },
          "metadata": {},
          "execution_count": 15
        }
      ],
      "source": [
        "# define percepts (current location is NW corner and it is dirty)\n",
        "bumpers = {\"north\" : True, \"east\" : False, \"south\" : False, \"west\" : True}\n",
        "dirty = True\n",
        "\n",
        "# call agent program function with percepts and it returns an action\n",
        "simple_randomized_agent(bumpers, dirty)"
      ]
    },
    {
      "cell_type": "markdown",
      "metadata": {
        "id": "TFJ53sPFRIg9"
      },
      "source": [
        "__Note:__ This is not a rational intelligent agent. It ignores its sensors and may bump into a wall repeatedly or not clean a dirty square. You will be asked to implement rational agents below."
      ]
    },
    {
      "cell_type": "markdown",
      "metadata": {
        "id": "V-HnubcwRIg9"
      },
      "source": [
        "## Simple environment example\n",
        "\n",
        "We implement a simple simulation environment that supplies the agent with its percepts.\n",
        "The simple environment is infinite in size (bumpers are always `False`) and every square is always dirty, even if the agent cleans it. The environment function returns a performance measure which is here the number of cleaned squares (since the room is infinite and all squares are constantly dirty, the agent can never clean the whole room as required in the PEAS description above). The energy budget of the agent is specified as `max_steps`."
      ]
    },
    {
      "cell_type": "code",
      "execution_count": 16,
      "metadata": {
        "id": "FWzejLH5RIg9"
      },
      "outputs": [],
      "source": [
        "def simple_environment(agent, max_steps, verbose = True):\n",
        "    num_cleaned = 0\n",
        "\n",
        "    for i in range(max_steps):\n",
        "        dirty = True\n",
        "        bumpers = {\"north\" : False, \"south\" : False, \"west\" : False, \"east\" : False}\n",
        "\n",
        "        action = agent(bumpers, dirty)\n",
        "        if (verbose): print(\"step\", i , \"- action:\", action)\n",
        "\n",
        "        if (action == \"suck\"):\n",
        "            num_cleaned = num_cleaned + 1\n",
        "\n",
        "    return num_cleaned\n",
        "\n"
      ]
    },
    {
      "cell_type": "markdown",
      "metadata": {
        "id": "bRZwjISJRIg-"
      },
      "source": [
        "Do one simulation run with a simple randomized agent that has enough energy for 20 steps."
      ]
    },
    {
      "cell_type": "code",
      "execution_count": 17,
      "metadata": {
        "id": "745ouYk8RIg-",
        "outputId": "1659f689-e5d7-4a19-c1be-aa2529bbcfca",
        "colab": {
          "base_uri": "https://localhost:8080/"
        }
      },
      "outputs": [
        {
          "output_type": "stream",
          "name": "stdout",
          "text": [
            "step 0 - action: west\n",
            "step 1 - action: north\n",
            "step 2 - action: south\n",
            "step 3 - action: east\n",
            "step 4 - action: suck\n",
            "step 5 - action: north\n",
            "step 6 - action: east\n",
            "step 7 - action: north\n",
            "step 8 - action: suck\n",
            "step 9 - action: suck\n",
            "step 10 - action: east\n",
            "step 11 - action: east\n",
            "step 12 - action: south\n",
            "step 13 - action: north\n",
            "step 14 - action: east\n",
            "step 15 - action: south\n",
            "step 16 - action: suck\n",
            "step 17 - action: north\n",
            "step 18 - action: east\n",
            "step 19 - action: east\n"
          ]
        },
        {
          "output_type": "execute_result",
          "data": {
            "text/plain": [
              "4"
            ]
          },
          "metadata": {},
          "execution_count": 17
        }
      ],
      "source": [
        "simple_environment(simple_randomized_agent, max_steps = 20)"
      ]
    },
    {
      "cell_type": "markdown",
      "metadata": {
        "id": "Gn0zP6XHRIg-"
      },
      "source": [
        "# Tasks\n",
        "\n",
        "\n",
        "1. Make sure that you use the latest version of this notebook. Sync your forked repository and pull the latest revision.\n",
        "2. Your implementation can use libraries like math, numpy, scipy, but not libraries that implement intelligent agents or complete search algorithms. Try to keep the code simple! In this course, we want to learn about the algorithms and we often do not need to use object-oriented design.\n",
        "3. You notebook needs to be formatted professionally.\n",
        "    - Add additional markdown blocks for your description, comments in the code, add tables and use mathplotlib to produce charts where appropriate\n",
        "    - Do not show debugging output or include an excessive amount of output.\n",
        "    - Check that your PDF file is readable. For example, long lines are cut off in the PDF file. You don't have control over page breaks, so do not worry about these.\n",
        "4. Document your code. Add a short discussion of how your implementation works and your design choices.\n",
        "\n",
        "\n",
        "## Task 1: Implement a simulation environment\n",
        "\n",
        "The simple environment above is not very realistic. Your environment simulator needs to follow the PEAS description from above. It needs to:\n",
        "\n",
        "* Initialize the environment by storing the state of each square (clean/dirty) and making some dirty.\n",
        "* Keep track of the agent's position.\n",
        "* Call the agent function repeatedly and provide the agent function with the sensor inputs.  \n",
        "* React to the agent's actions. E.g, by removing dirt from a square or moving the agent around unless there is a wall in the way.\n",
        "* Keep track of the performance measure. That is, track the agent's actions until all dirty squares are clean and count the number of actions it takes the agent to complete the task.\n",
        "\n",
        "The easiest implementation for the environment is to hold an 2-dimensional array to represent if squares are clean or dirty and to call the agent function in a loop until all squares are clean or a predefined number of steps have been reached (i.e., the robot runs out of energy).\n",
        "\n",
        "The simulation environment should be a function like the `simple_environment()` and needs to work with the simple randomized agent program from above. **Use the same environment for all your agent implementations in the tasks below.**\n",
        "\n",
        "*Note on debugging:* Debugging is difficult. Make sure your environment prints enough information when you use `verbose = True`. Also, implementing a function that the environment can use to displays the room with dirt and the current position of the robot at every step is very useful.  "
      ]
    },
    {
      "cell_type": "code",
      "execution_count": 18,
      "metadata": {
        "id": "IodK7cWwRIg_",
        "outputId": "9f8224d7-acf6-4dda-87d3-a18db7ec6bf4",
        "colab": {
          "base_uri": "https://localhost:8080/"
        }
      },
      "outputs": [
        {
          "output_type": "stream",
          "name": "stdout",
          "text": [
            "Vaccum Location: None\n",
            "Condition Matrix:\n",
            "[[0 0 0 1 1]\n",
            " [0 1 1 0 1]\n",
            " [0 0 0 0 0]\n",
            " [0 1 0 0 1]\n",
            " [0 1 0 0 1]]\n"
          ]
        }
      ],
      "source": [
        "import random\n",
        "import numpy\n",
        "\n",
        "class Environment():\n",
        "  def __init__(self):\n",
        "    self.condition= [[random.randint(0,1) for i in range(5)] for i in range(5)]\n",
        "    self.location = None\n",
        "\n",
        "  def __str__(self):\n",
        "    mat = numpy.array(self.condition)\n",
        "    return \"Vaccum Location: \" + str(self.location) + \"\\nCondition Matrix:\\n\" + str(mat)\n",
        "\n",
        "  def isClean(self):\n",
        "    full_clean = numpy.zeros((5, 5))\n",
        "    return numpy.array_equal(self.condition, full_clean)\n",
        "\n",
        "env = Environment()\n",
        "print(env)"
      ]
    },
    {
      "cell_type": "code",
      "source": [
        "z = numpy.zeros((5, 5))\n",
        "mat = [[0, 0, 0, 0, 0], [0, 0, 0, 0, 0], [0, 0, 0, 0, 0], [0, 0, 0, 0, 0], [0, 0, 0, 0, 0]]\n",
        "numpy.array_equal(z, mat)"
      ],
      "metadata": {
        "colab": {
          "base_uri": "https://localhost:8080/"
        },
        "id": "KOzDe7s3wBWY",
        "outputId": "5bfa8a2d-c8d7-49c3-d6c1-79b63f7451b2"
      },
      "execution_count": 19,
      "outputs": [
        {
          "output_type": "execute_result",
          "data": {
            "text/plain": [
              "True"
            ]
          },
          "metadata": {},
          "execution_count": 19
        }
      ]
    },
    {
      "cell_type": "code",
      "source": [
        "def Agent(bumpers, dirty):\n",
        "  # This is a simple agent\n",
        "  # it only considers the sensors as input and provides huge weight to their activation\n",
        "  # the agent has not learned path optimization or cost optimization\n",
        "  actions = [\"North\", \"East\", \"West\", \"South\"]\n",
        "  if dirty:\n",
        "    return \"Clean\"\n",
        "  Action = random.choice(actions)\n",
        "  while bumpers[Action] == True:\n",
        "    # if sensors are not activated choose direction to move randomly\n",
        "    Action = random.choice(actions)\n",
        "  return Action"
      ],
      "metadata": {
        "id": "2EdYUU-Kkunl"
      },
      "execution_count": 20,
      "outputs": []
    },
    {
      "cell_type": "code",
      "source": [
        "def Intelligent_Agent(bumpers, dirty, Environment):\n",
        "  \"\"\"\n",
        "  In Progress:\n",
        "  • should not traverse the same cells it has cleaned or moved over\n",
        "  • mark each visited cell\n",
        "  • if visiting a previous cell is neccessary, reduce that cost also\n",
        "  • dfs provides best score for cost optimization\n",
        "  \"\"\"\n",
        "  actions = [\"North\", \"East\", \"West\", \"South\"]\n",
        "  if dirty:\n",
        "    return \"Clean\"\n",
        "  Action = \"North\"\n",
        "  return Action"
      ],
      "metadata": {
        "id": "Uod6DSfX6ggW"
      },
      "execution_count": 21,
      "outputs": []
    },
    {
      "cell_type": "code",
      "source": [
        "def Agent_program(Agent, Environment, max_steps, verbose=False):\n",
        "  spawn = [random.randint(0, 4),random.randint(0, 4)]\n",
        "  cleaned = 0\n",
        "  Environment.location = spawn\n",
        "  dirty, bumpers = percept(Environment)\n",
        "  print(Environment)\n",
        "  for i in range(max_steps):\n",
        "    dirty, bumpers = percept(Environment)\n",
        "    Action = Agent(bumpers, dirty)\n",
        "    if Action == \"Clean\":\n",
        "      cleaned+=1\n",
        "    Effectors(Environment, Action)\n",
        "    if Environment.isClean():\n",
        "      print(\"Environment is clean\")\n",
        "      break\n",
        "    if verbose:\n",
        "      print(Environment)\n",
        "  print(\"Cells Cleaned :\", cleaned)"
      ],
      "metadata": {
        "id": "C2B3wB1cleZd"
      },
      "execution_count": 22,
      "outputs": []
    },
    {
      "cell_type": "code",
      "source": [
        "def percept(Environment):\n",
        "  bumpers = {}\n",
        "  loc = Environment.location\n",
        "\n",
        "  dirty = Environment.condition[loc[0]][loc[1]]\n",
        "\n",
        "  bumpers[\"North\"] = not bool(loc[0])\n",
        "  bumpers[\"West\"] = not bool(loc[1])\n",
        "  bumpers[\"East\"] = not bool(4-loc[1])\n",
        "  bumpers[\"South\"] = not bool(4-loc[0])\n",
        "  return dirty, bumpers\n",
        "\n",
        "def Effectors(Environment, Action):\n",
        "  loc = Environment.location\n",
        "  if Action == \"Clean\":\n",
        "    print(f\"Location ({loc[0]}, {loc[1]}) is Dirty.\")\n",
        "    Environment.condition[loc[0]][loc[1]] = 0\n",
        "    print(f\"Location ({loc[0]}, {loc[1]}) has been Cleaned.\")\n",
        "  elif Action == \"North\":\n",
        "    print(f\"Moving North - ({loc[0]-1}, {loc[1]})\")\n",
        "    Environment.location[0] -= 1\n",
        "  elif Action == \"East\":\n",
        "    print(f\"Moving East - ({loc[0]}, {loc[1]+1})\")\n",
        "    Environment.location[1] += 1\n",
        "  elif Action == \"West\":\n",
        "    print(f\"Moving West - ({loc[0]}, {loc[1]-1})\")\n",
        "    Environment.location[1] -= 1\n",
        "  else:\n",
        "    print(f\"Moving South - ({loc[0]+1}, {loc[1]})\")\n",
        "    Environment.location[0] += 1"
      ],
      "metadata": {
        "id": "DYSWuiHUwpGA"
      },
      "execution_count": 23,
      "outputs": []
    },
    {
      "cell_type": "markdown",
      "metadata": {
        "id": "7y69fDfDRIg_"
      },
      "source": [
        "\n",
        "\n",
        "The simple reflex agent randomly walks around but reacts to the bumper sensor by not bumping into the wall and to dirt with sucking. Implement the agent program as a function.\n",
        "\n",
        "_Note:_ Agents cannot directly use variable in the environment. They only gets the percepts as the arguments to the agent function."
      ]
    },
    {
      "cell_type": "code",
      "source": [
        "env = Environment()\n",
        "Agent_program(Agent, env, 500)"
      ],
      "metadata": {
        "id": "9wDuWkfpjr0-",
        "outputId": "d3f8edb3-db25-49fc-813a-88b1123930f4",
        "colab": {
          "base_uri": "https://localhost:8080/"
        }
      },
      "execution_count": 24,
      "outputs": [
        {
          "output_type": "stream",
          "name": "stdout",
          "text": [
            "Vaccum Location: [3, 0]\n",
            "Condition Matrix:\n",
            "[[0 1 1 1 1]\n",
            " [1 0 0 1 0]\n",
            " [0 1 0 0 1]\n",
            " [1 0 0 0 0]\n",
            " [0 1 0 0 1]]\n",
            "Location (3, 0) is Dirty.\n",
            "Location (3, 0) has been Cleaned.\n",
            "Moving South - (4, 0)\n",
            "Moving East - (4, 1)\n",
            "Location (4, 1) is Dirty.\n",
            "Location (4, 1) has been Cleaned.\n",
            "Moving West - (4, 0)\n",
            "Moving North - (3, 0)\n",
            "Moving East - (3, 1)\n",
            "Moving East - (3, 2)\n",
            "Moving North - (2, 2)\n",
            "Moving North - (1, 2)\n",
            "Moving North - (0, 2)\n",
            "Location (0, 2) is Dirty.\n",
            "Location (0, 2) has been Cleaned.\n",
            "Moving South - (1, 2)\n",
            "Moving South - (2, 2)\n",
            "Moving West - (2, 1)\n",
            "Location (2, 1) is Dirty.\n",
            "Location (2, 1) has been Cleaned.\n",
            "Moving South - (3, 1)\n",
            "Moving North - (2, 1)\n",
            "Moving South - (3, 1)\n",
            "Moving South - (4, 1)\n",
            "Moving North - (3, 1)\n",
            "Moving South - (4, 1)\n",
            "Moving West - (4, 0)\n",
            "Moving East - (4, 1)\n",
            "Moving East - (4, 2)\n",
            "Moving North - (3, 2)\n",
            "Moving East - (3, 3)\n",
            "Moving West - (3, 2)\n",
            "Moving South - (4, 2)\n",
            "Moving North - (3, 2)\n",
            "Moving East - (3, 3)\n",
            "Moving North - (2, 3)\n",
            "Moving West - (2, 2)\n",
            "Moving South - (3, 2)\n",
            "Moving East - (3, 3)\n",
            "Moving East - (3, 4)\n",
            "Moving West - (3, 3)\n",
            "Moving East - (3, 4)\n",
            "Moving South - (4, 4)\n",
            "Location (4, 4) is Dirty.\n",
            "Location (4, 4) has been Cleaned.\n",
            "Moving North - (3, 4)\n",
            "Moving North - (2, 4)\n",
            "Location (2, 4) is Dirty.\n",
            "Location (2, 4) has been Cleaned.\n",
            "Moving South - (3, 4)\n",
            "Moving South - (4, 4)\n",
            "Moving North - (3, 4)\n",
            "Moving North - (2, 4)\n",
            "Moving West - (2, 3)\n",
            "Moving North - (1, 3)\n",
            "Location (1, 3) is Dirty.\n",
            "Location (1, 3) has been Cleaned.\n",
            "Moving West - (1, 2)\n",
            "Moving South - (2, 2)\n",
            "Moving West - (2, 1)\n",
            "Moving East - (2, 2)\n",
            "Moving North - (1, 2)\n",
            "Moving West - (1, 1)\n",
            "Moving West - (1, 0)\n",
            "Location (1, 0) is Dirty.\n",
            "Location (1, 0) has been Cleaned.\n",
            "Moving North - (0, 0)\n",
            "Moving East - (0, 1)\n",
            "Location (0, 1) is Dirty.\n",
            "Location (0, 1) has been Cleaned.\n",
            "Moving South - (1, 1)\n",
            "Moving North - (0, 1)\n",
            "Moving East - (0, 2)\n",
            "Moving East - (0, 3)\n",
            "Location (0, 3) is Dirty.\n",
            "Location (0, 3) has been Cleaned.\n",
            "Moving West - (0, 2)\n",
            "Moving South - (1, 2)\n",
            "Moving South - (2, 2)\n",
            "Moving North - (1, 2)\n",
            "Moving West - (1, 1)\n",
            "Moving East - (1, 2)\n",
            "Moving South - (2, 2)\n",
            "Moving East - (2, 3)\n",
            "Moving North - (1, 3)\n",
            "Moving East - (1, 4)\n",
            "Moving North - (0, 4)\n",
            "Location (0, 4) is Dirty.\n",
            "Location (0, 4) has been Cleaned.\n",
            "Environment is clean\n",
            "Cells Cleaned : 11\n"
          ]
        }
      ]
    },
    {
      "cell_type": "code",
      "execution_count": 25,
      "metadata": {
        "id": "X5jc9xu6RIg_"
      },
      "outputs": [],
      "source": [
        "# Your code and description goes here"
      ]
    },
    {
      "cell_type": "markdown",
      "metadata": {
        "id": "d3YR-6jJRIhA"
      },
      "source": []
    }
  ],
  "metadata": {
    "kernelspec": {
      "display_name": "Python 3 (ipykernel)",
      "language": "python",
      "name": "python3"
    },
    "language_info": {
      "codemirror_mode": {
        "name": "ipython",
        "version": 3
      },
      "file_extension": ".py",
      "mimetype": "text/x-python",
      "name": "python",
      "nbconvert_exporter": "python",
      "pygments_lexer": "ipython3",
      "version": "3.10.12"
    },
    "toc-autonumbering": false,
    "colab": {
      "provenance": []
    }
  },
  "nbformat": 4,
  "nbformat_minor": 0
}